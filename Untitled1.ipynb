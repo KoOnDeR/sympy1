{
  "nbformat": 4,
  "nbformat_minor": 0,
  "metadata": {
    "colab": {
      "name": "Untitled1.ipynb",
      "provenance": [],
      "collapsed_sections": [],
      "authorship_tag": "ABX9TyMr3Z8luaZnEn/wFDbruM6q",
      "include_colab_link": true
    },
    "kernelspec": {
      "display_name": "Python 3",
      "name": "python3"
    }
  },
  "cells": [
    {
      "cell_type": "markdown",
      "metadata": {
        "id": "view-in-github",
        "colab_type": "text"
      },
      "source": [
        "<a href=\"https://colab.research.google.com/github/KoOnDeR/sympy1/blob/main/Untitled1.ipynb\" target=\"_parent\"><img src=\"https://colab.research.google.com/assets/colab-badge.svg\" alt=\"Open In Colab\"/></a>"
      ]
    },
    {
      "cell_type": "code",
      "metadata": {
        "id": "KA5Fv1y7u9OZ"
      },
      "source": [
        "from IPython.display import display, Math\r\n",
        "import matplotlib\r\n",
        "import matplotlib.pyplot as plt\r\n",
        "\r\n",
        "def plot(expr, a, b, n):\r\n",
        "  dx = (b - a) / n\r\n",
        "  X, Y = [], []\r\n",
        "  for i in range(n + 1):\r\n",
        "    x = a + dx * i\r\n",
        "    y = expr.evalf(x)\r\n",
        "    X.append(x)\r\n",
        "    Y.append(y)\r\n",
        "\r\n",
        "  fig, ax = plt.subplots(figsize=(12, 9))\r\n",
        "  ax.plot(X, Y, color=\"red\", lw=5)\r\n",
        "  plt.show()\r\n",
        "def check(x):\r\n",
        "    if(isinstance(x, Polynomial)):\r\n",
        "      return x\r\n",
        "    return Polynomial([x])\r\n",
        "class Polynomial:\r\n",
        "  def __init__(self, f=[]):\r\n",
        "    self.k = f\r\n",
        "    self.size = len(f)\r\n",
        "  def __str__(self):\r\n",
        "    k = self.k\r\n",
        "    s = ''\r\n",
        "    for i in range(len(k)-1, 0,-1):\r\n",
        "      el = ''\r\n",
        "      if(k[i] != 0):\r\n",
        "        if(abs(k[i]) != 1):\r\n",
        "          el += str(abs(k[i]))\r\n",
        "        el += 'x'\r\n",
        "        if(i != 1):\r\n",
        "          el += '^' + str(i)\r\n",
        "        if(k[i] < 0):\r\n",
        "          el = '-' + el\r\n",
        "        if(s != '' and k[i] > 0 and i != len(k)-1):\r\n",
        "          el = '+' + el\r\n",
        "      s+= el\r\n",
        "    if(k[0] != 0):\r\n",
        "     if(len(k)>1 and s!= ''):\r\n",
        "       if(k[0] >= 0):\r\n",
        "        s += '+'      \r\n",
        "     s += str(k[0])\r\n",
        "    return s\r\n",
        "  \r\n",
        "  def __add__(self, x):\r\n",
        "    x = check(x)\r\n",
        "    if(len(self.k) < len(x.k)):\r\n",
        "      size = len(self.k)\r\n",
        "      a = x\r\n",
        "      b = self\r\n",
        "    else:\r\n",
        "      size = len(x.k)\r\n",
        "      a = self\r\n",
        "      b = x\r\n",
        "    for i in range(size):\r\n",
        "      a.k[i] += b.k[i]\r\n",
        "    return a\r\n",
        "  def __radd__(self, x):\r\n",
        "    return self + x;\r\n",
        "  def __sub__(self, x):\r\n",
        "    x = check(x)\r\n",
        "    if(len(self.k) < len(x.k)):\r\n",
        "      a = x\r\n",
        "      b = self\r\n",
        "    else:\r\n",
        "      a = self\r\n",
        "      b = x\r\n",
        "    z = a == self\r\n",
        "    for i in range(a.size):\r\n",
        "      if(z):\r\n",
        "        if(i < b.size):\r\n",
        "          a.k[i] -= b.k[i]\r\n",
        "      else:\r\n",
        "        if(i < b.size):\r\n",
        "          a.k[i] = b.k[i] - a.k[i]\r\n",
        "        else:\r\n",
        "           a.k[i] = 0 - a.k[i]\r\n",
        "    return a\r\n",
        "  def __rsub__(self, x):\r\n",
        "    x = check (x)\r\n",
        "    return x - self;\r\n",
        "  def _eq__(self, x):\r\n",
        "    if(self.size != x.size):\r\n",
        "      return False\r\n",
        "    else:\r\n",
        "      for i in range (self.size):\r\n",
        "        if(self.k[i] != x.k[i]):\r\n",
        "          return False\r\n",
        "    return True\r\n",
        "  def evalf(self, x):\r\n",
        "    res = 0\r\n",
        "    for i in range(self.size):\r\n",
        "      res += self.k[i] * x ** i\r\n",
        "    return res\r\n",
        "  def toLatex(self):\r\n",
        "    s = self.__str__()\r\n",
        "    return s\r\n",
        "  def show(self):\r\n",
        "      display(Math(self.toLatex()))"
      ],
      "execution_count": 1,
      "outputs": []
    },
    {
      "cell_type": "code",
      "metadata": {
        "colab": {
          "base_uri": "https://localhost:8080/",
          "height": 575
        },
        "id": "i8ty8gMFwJ1F",
        "outputId": "e572ccef-56d6-4d7d-de47-c80b8722f305"
      },
      "source": [
        "x = Polynomial([0,1,2,3])\r\n",
        "y = Polynomial([2,0,0,3])\r\n",
        "print(x)\r\n",
        "x.show()\r\n",
        "plot(x, -20, 20, 500)"
      ],
      "execution_count": 3,
      "outputs": [
        {
          "output_type": "stream",
          "text": [
            "3x^3+2x^2+x\n"
          ],
          "name": "stdout"
        },
        {
          "output_type": "display_data",
          "data": {
            "text/latex": "$$3x^3+2x^2+x$$",
            "text/plain": [
              "<IPython.core.display.Math object>"
            ]
          },
          "metadata": {
            "tags": []
          }
        },
        {
          "output_type": "display_data",
          "data": {
            "image/png": "[encoded data removed]",
            "text/plain": [
              "<Figure size 864x648 with 1 Axes>"
            ]
          },
          "metadata": {
            "tags": [],
            "needs_background": "light"
          }
        }
      ]
    }
  ]
}